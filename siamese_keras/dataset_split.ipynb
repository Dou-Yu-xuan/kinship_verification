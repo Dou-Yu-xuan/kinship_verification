{
 "cells": [
  {
   "cell_type": "code",
   "execution_count": 1,
   "metadata": {},
   "outputs": [],
   "source": [
    "import pandas as pd\n",
    "import os\n",
    "\n",
    "import random\n",
    "random.seed(228)"
   ]
  },
  {
   "cell_type": "code",
   "execution_count": 2,
   "metadata": {},
   "outputs": [],
   "source": [
    "csv_files = os.listdir(\"folds_5splits-csv/folds_5splits-csv\")\n",
    "csv_files.remove('.DS_Store')"
   ]
  },
  {
   "cell_type": "code",
   "execution_count": 3,
   "metadata": {},
   "outputs": [],
   "source": [
    "fold_count = {\"1\" : 0, \"2\" : 0, \"3\" : 0, \"4\" : 0, \"5\" : 0 }\n",
    "\n",
    "for csv_file in csv_files:\n",
    "    df = pd.read_csv(\"folds_5splits-csv/folds_5splits-csv/{}\".format(csv_file))\n",
    "    \n",
    "    counts = dict(df[\"fold\"].value_counts())\n",
    "    for key in counts:\n",
    "        fold_count[str(key)] += counts[key]"
   ]
  },
  {
   "cell_type": "code",
   "execution_count": 4,
   "metadata": {},
   "outputs": [
    {
     "data": {
      "text/plain": [
       "{'1': 87654, '2': 90640, '3': 99962, '4': 170600, '5': 208098}"
      ]
     },
     "execution_count": 4,
     "metadata": {},
     "output_type": "execute_result"
    }
   ],
   "source": [
    "fold_count"
   ]
  },
  {
   "cell_type": "code",
   "execution_count": 5,
   "metadata": {},
   "outputs": [],
   "source": [
    "def filter_df(csv_file):\n",
    "    df = pd.read_csv(\"folds_5splits-csv/folds_5splits-csv/{}\".format(csv_file))\n",
    "    \n",
    "    # get only values from the certain fold\n",
    "    idx =  df[df[\"fold\"] == 2].index.tolist()\n",
    "    \n",
    "    # randomly select 10% of values\n",
    "    selected_idx = random.sample(idx, k = int(len(idx) * 0.01))\n",
    "    \n",
    "    # get only selected rows\n",
    "    selected_df =  df.loc[selected_idx]\n",
    "    selected_df.drop([\"fold\"], axis=1, inplace=True)\n",
    "    \n",
    "    selected_df[\"relation\"] = csv_file.split(\".\")[0]\n",
    "    \n",
    "    return selected_df"
   ]
  },
  {
   "cell_type": "code",
   "execution_count": 6,
   "metadata": {},
   "outputs": [],
   "source": [
    "final_df = pd.DataFrame([])\n",
    "\n",
    "for csv_file in csv_files:\n",
    "    df = filter_df(csv_file)\n",
    "    \n",
    "    if final_df.shape[0] == 0:\n",
    "        final_df = df\n",
    "    else:\n",
    "        final_df = pd.concat([final_df, df], ignore_index=True)"
   ]
  },
  {
   "cell_type": "code",
   "execution_count": 7,
   "metadata": {},
   "outputs": [
    {
     "data": {
      "text/html": [
       "<div>\n",
       "<style scoped>\n",
       "    .dataframe tbody tr th:only-of-type {\n",
       "        vertical-align: middle;\n",
       "    }\n",
       "\n",
       "    .dataframe tbody tr th {\n",
       "        vertical-align: top;\n",
       "    }\n",
       "\n",
       "    .dataframe thead th {\n",
       "        text-align: right;\n",
       "    }\n",
       "</style>\n",
       "<table border=\"1\" class=\"dataframe\">\n",
       "  <thead>\n",
       "    <tr style=\"text-align: right;\">\n",
       "      <th></th>\n",
       "      <th>label</th>\n",
       "      <th>p1</th>\n",
       "      <th>p2</th>\n",
       "      <th>relation</th>\n",
       "    </tr>\n",
       "  </thead>\n",
       "  <tbody>\n",
       "    <tr>\n",
       "      <th>0</th>\n",
       "      <td>0</td>\n",
       "      <td>F0803/MID2/P08502_face2.jpg</td>\n",
       "      <td>F0298/MID3/P03177_face2.jpg</td>\n",
       "      <td>md</td>\n",
       "    </tr>\n",
       "    <tr>\n",
       "      <th>1</th>\n",
       "      <td>0</td>\n",
       "      <td>F0222/MID3/P02358_face1.jpg</td>\n",
       "      <td>F0539/MID3/P05659_face1.jpg</td>\n",
       "      <td>md</td>\n",
       "    </tr>\n",
       "    <tr>\n",
       "      <th>2</th>\n",
       "      <td>0</td>\n",
       "      <td>F0187/MID1/P02011_face1.jpg</td>\n",
       "      <td>F0961/MID3/P10121_face3.jpg</td>\n",
       "      <td>md</td>\n",
       "    </tr>\n",
       "    <tr>\n",
       "      <th>3</th>\n",
       "      <td>1</td>\n",
       "      <td>F0188/MID4/P02021_face1.jpg</td>\n",
       "      <td>F0188/MID5/P02019_face1.jpg</td>\n",
       "      <td>md</td>\n",
       "    </tr>\n",
       "    <tr>\n",
       "      <th>4</th>\n",
       "      <td>0</td>\n",
       "      <td>F0189/MID4/P02031_face2.jpg</td>\n",
       "      <td>F0987/MID4/P10399_face5.jpg</td>\n",
       "      <td>md</td>\n",
       "    </tr>\n",
       "    <tr>\n",
       "      <th>...</th>\n",
       "      <td>...</td>\n",
       "      <td>...</td>\n",
       "      <td>...</td>\n",
       "      <td>...</td>\n",
       "    </tr>\n",
       "    <tr>\n",
       "      <th>895</th>\n",
       "      <td>1</td>\n",
       "      <td>F0987/MID6/P10403_face1.jpg</td>\n",
       "      <td>F0987/MID3/P10400_face10.jpg</td>\n",
       "      <td>gfgs</td>\n",
       "    </tr>\n",
       "    <tr>\n",
       "      <th>896</th>\n",
       "      <td>1</td>\n",
       "      <td>F0987/MID6/P10400_face1.jpg</td>\n",
       "      <td>F0987/MID4/P10406_face2.jpg</td>\n",
       "      <td>gfgs</td>\n",
       "    </tr>\n",
       "    <tr>\n",
       "      <th>897</th>\n",
       "      <td>1</td>\n",
       "      <td>F0332/MID5/P03515_face6.jpg</td>\n",
       "      <td>F0332/MID4/P03520_face2.jpg</td>\n",
       "      <td>gfgs</td>\n",
       "    </tr>\n",
       "    <tr>\n",
       "      <th>898</th>\n",
       "      <td>1</td>\n",
       "      <td>F0189/MID5/P02026_face2.jpg</td>\n",
       "      <td>F0189/MID1/P02030_face2.jpg</td>\n",
       "      <td>gfgs</td>\n",
       "    </tr>\n",
       "    <tr>\n",
       "      <th>899</th>\n",
       "      <td>0</td>\n",
       "      <td>F0987/MID6/P10403_face1.jpg</td>\n",
       "      <td>F0414/MID2/P11235_face1.jpg</td>\n",
       "      <td>gfgs</td>\n",
       "    </tr>\n",
       "  </tbody>\n",
       "</table>\n",
       "<p>900 rows × 4 columns</p>\n",
       "</div>"
      ],
      "text/plain": [
       "     label                           p1                            p2 relation\n",
       "0        0  F0803/MID2/P08502_face2.jpg   F0298/MID3/P03177_face2.jpg       md\n",
       "1        0  F0222/MID3/P02358_face1.jpg   F0539/MID3/P05659_face1.jpg       md\n",
       "2        0  F0187/MID1/P02011_face1.jpg   F0961/MID3/P10121_face3.jpg       md\n",
       "3        1  F0188/MID4/P02021_face1.jpg   F0188/MID5/P02019_face1.jpg       md\n",
       "4        0  F0189/MID4/P02031_face2.jpg   F0987/MID4/P10399_face5.jpg       md\n",
       "..     ...                          ...                           ...      ...\n",
       "895      1  F0987/MID6/P10403_face1.jpg  F0987/MID3/P10400_face10.jpg     gfgs\n",
       "896      1  F0987/MID6/P10400_face1.jpg   F0987/MID4/P10406_face2.jpg     gfgs\n",
       "897      1  F0332/MID5/P03515_face6.jpg   F0332/MID4/P03520_face2.jpg     gfgs\n",
       "898      1  F0189/MID5/P02026_face2.jpg   F0189/MID1/P02030_face2.jpg     gfgs\n",
       "899      0  F0987/MID6/P10403_face1.jpg   F0414/MID2/P11235_face1.jpg     gfgs\n",
       "\n",
       "[900 rows x 4 columns]"
      ]
     },
     "execution_count": 7,
     "metadata": {},
     "output_type": "execute_result"
    }
   ],
   "source": [
    "final_df"
   ]
  },
  {
   "cell_type": "code",
   "execution_count": 20,
   "metadata": {},
   "outputs": [],
   "source": [
    "final_df.to_csv(\"val_FIW.csv\", index=False)"
   ]
  }
 ],
 "metadata": {
  "kernelspec": {
   "display_name": "Python 3",
   "language": "python",
   "name": "python3"
  },
  "language_info": {
   "codemirror_mode": {
    "name": "ipython",
    "version": 3
   },
   "file_extension": ".py",
   "mimetype": "text/x-python",
   "name": "python",
   "nbconvert_exporter": "python",
   "pygments_lexer": "ipython3",
   "version": "3.7.6"
  }
 },
 "nbformat": 4,
 "nbformat_minor": 4
}
